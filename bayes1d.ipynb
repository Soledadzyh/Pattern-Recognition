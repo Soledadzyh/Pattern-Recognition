{
 "cells": [
  {
   "cell_type": "code",
   "execution_count": 1,
   "metadata": {},
   "outputs": [
    {
     "ename": "ModuleNotFoundError",
     "evalue": "No module named 'playML.Bayers'",
     "traceback": [
      "\u001b[0;31m---------------------------------------------------------------------------\u001b[0m",
      "\u001b[0;31mModuleNotFoundError\u001b[0m                       Traceback (most recent call last)",
      "\u001b[0;32m<ipython-input-1-0b6c078f9d60>\u001b[0m in \u001b[0;36m<module>\u001b[0;34m()\u001b[0m\n\u001b[1;32m      5\u001b[0m \u001b[0;32mfrom\u001b[0m \u001b[0msklearn\u001b[0m\u001b[0;34m.\u001b[0m\u001b[0mneighbors\u001b[0m \u001b[0;32mimport\u001b[0m \u001b[0mKNeighborsClassifier\u001b[0m\u001b[0;34m\u001b[0m\u001b[0;34m\u001b[0m\u001b[0m\n\u001b[1;32m      6\u001b[0m \u001b[0;32mfrom\u001b[0m \u001b[0mplayML\u001b[0m\u001b[0;34m.\u001b[0m\u001b[0mmetrics\u001b[0m \u001b[0;32mimport\u001b[0m \u001b[0mplot_decision_boundary\u001b[0m\u001b[0;34m\u001b[0m\u001b[0;34m\u001b[0m\u001b[0m\n\u001b[0;32m----> 7\u001b[0;31m \u001b[0;32mfrom\u001b[0m \u001b[0mplayML\u001b[0m\u001b[0;34m.\u001b[0m\u001b[0mBayers\u001b[0m \u001b[0;32mimport\u001b[0m \u001b[0mBayerGN\u001b[0m\u001b[0;34m\u001b[0m\u001b[0;34m\u001b[0m\u001b[0m\n\u001b[0m\u001b[1;32m      8\u001b[0m \u001b[0;32mfrom\u001b[0m \u001b[0mplayML\u001b[0m\u001b[0;34m.\u001b[0m\u001b[0mmodel_selection\u001b[0m \u001b[0;32mimport\u001b[0m \u001b[0mtrain_test_split\u001b[0m\u001b[0;34m\u001b[0m\u001b[0;34m\u001b[0m\u001b[0m\n\u001b[1;32m      9\u001b[0m \u001b[0mX\u001b[0m\u001b[0;34m,\u001b[0m \u001b[0mY\u001b[0m \u001b[0;34m=\u001b[0m \u001b[0mnp\u001b[0m\u001b[0;34m.\u001b[0m\u001b[0mloadtxt\u001b[0m\u001b[0;34m(\u001b[0m\u001b[0;34m\"X_train.csv\"\u001b[0m\u001b[0;34m,\u001b[0m \u001b[0mdelimiter\u001b[0m\u001b[0;34m=\u001b[0m\u001b[0;34m\",\"\u001b[0m\u001b[0;34m)\u001b[0m\u001b[0;34m,\u001b[0m\u001b[0mnp\u001b[0m\u001b[0;34m.\u001b[0m\u001b[0mloadtxt\u001b[0m\u001b[0;34m(\u001b[0m\u001b[0;34m\"y_train.csv\"\u001b[0m\u001b[0;34m,\u001b[0m \u001b[0mdelimiter\u001b[0m\u001b[0;34m=\u001b[0m\u001b[0;34m\",\"\u001b[0m\u001b[0;34m)\u001b[0m\u001b[0;34m\u001b[0m\u001b[0;34m\u001b[0m\u001b[0m\n",
      "\u001b[0;31mModuleNotFoundError\u001b[0m: No module named 'playML.Bayers'"
     ],
     "output_type": "error"
    }
   ],
   "source": [
    "from matplotlib.colors import ListedColormap\n",
    "import numpy as np\n",
    "import matplotlib.pyplot as plt\n",
    "from numpy.linalg import inv\n",
    "from sklearn.neighbors import KNeighborsClassifier\n",
    "from playML.metrics import plot_decision_boundary\n",
    "from playML.Bayers import BayerGN\n",
    "from playML.model_selection import train_test_split\n",
    "X, Y = np.loadtxt(\"X_train.csv\", delimiter=\",\"),np.loadtxt(\"y_train.csv\", delimiter=\",\")\n",
    "X_test, y_test =  np.loadtxt(\"X_test.csv\", delimiter=\",\"), np.loadtxt(\"y_test.csv\", delimiter=\",\")"
   ]
  },
  {
   "cell_type": "markdown",
   "metadata": {},
   "source": [
    "## sklearn中的GaussionNB"
   ]
  },
  {
   "cell_type": "code",
   "execution_count": 2,
   "metadata": {},
   "outputs": [],
   "source": [
    "def bayes1d(i):\n",
    "    from sklearn.naive_bayes import GaussianNB\n",
    "    models = (GaussianNB(priors = [0.1, 0.9]),\n",
    "               GaussianNB(priors=[0.5,0.5]),\n",
    "               GaussianNB(priors=[0.25,0.75]),\n",
    "               GaussianNB(priors=[0.75,0.25])) \n",
    "    models = [clf.fit(X[:,i].reshape(-1,1), Y) for clf in models]\n",
    "    # scores\n",
    "    scores = [model.score(X_test[:,i].reshape(-1,1), y_test) for model in models]\n",
    "    print(\"accuracy\")\n",
    "    print(scores)\n",
    "    # title for the plots\n",
    "    titles = ('priors = [0.1, 0.9]',\n",
    "              'priors=[0.5,0.5]',\n",
    "              'priors=[0.25,0.75]',\n",
    "              'priors=[0.75,0.25]')\n",
    "    labels = (\"height\",\"weight\",\"size of feet\")\n",
    "    print(labels[i])\n",
    "    fig, sub = plt.subplots(1, 1)\n",
    "    plt.subplots_adjust(wspace=0.4, hspace=0.4)\n",
    "    from sklearn.metrics import roc_curve\n",
    "    \n",
    "    fprs = []\n",
    "    tprs = []\n",
    "    decision_scores = models[0].predict_proba(X_test[:,i].reshape(-1,1))\n",
    "    decision_scores=decision_scores[:,0]-decision_scores[:,1]\n",
    "    tprs, fprs,t  = roc_curve( y_test, decision_scores)\n",
    "\n",
    "#         fprs, tprs,t  = roc(decision_scores, y_test)\n",
    "    sub.plot(fprs, tprs)\n",
    "    sub.set_xlabel(\"fprs\")\n",
    "    sub.set_ylabel(\"tprs\")\n",
    "    sub.set_xticks(())\n",
    "    sub.set_yticks(())\n",
    "    sub.set_title(titles[0])"
   ]
  },
  {
   "cell_type": "markdown",
   "metadata": {},
   "source": [
    "## 自己封装的Bayes但是与sklearn中的有差别"
   ]
  },
  {
   "cell_type": "code",
   "execution_count": 3,
   "metadata": {
    "scrolled": true
   },
   "outputs": [
    {
     "name": "stdout",
     "output_type": "stream",
     "text": [
      "accuracy\n",
      "[0.7674418604651163, 0.8604651162790697, 0.7906976744186046, 0.8604651162790697]\n",
      "height\n",
      "accuracy\n",
      "[0.6744186046511628, 0.813953488372093, 0.7906976744186046, 0.7674418604651163]\n",
      "weight\n",
      "accuracy\n",
      "[0.9534883720930233, 0.9534883720930233, 0.9534883720930233, 0.9302325581395349]\n",
      "size of feet\n"
     ]
    },
    {
     "data": {
      "image/png": "[encoded data removed]",
      "text/plain": [
       "<Figure size 432x288 with 1 Axes>"
      ]
     },
     "metadata": {},
     "output_type": "display_data"
    },
    {
     "data": {
      "image/png": "[encoded data removed]",
      "text/plain": [
       "<Figure size 432x288 with 1 Axes>"
      ]
     },
     "metadata": {},
     "output_type": "display_data"
    },
    {
     "data": {
      "image/png": "[encoded data removed]",
      "text/plain": [
       "<Figure size 432x288 with 1 Axes>"
      ]
     },
     "metadata": {},
     "output_type": "display_data"
    }
   ],
   "source": [
    "bayes1d(0)\n",
    "bayes1d(1)\n",
    "bayes1d(2)"
   ]
  },
  {
   "cell_type": "code",
   "execution_count": null,
   "metadata": {},
   "outputs": [],
   "source": [
    "def bayes1d(i):\n",
    "    from playML.Bayes import BayersGN\n",
    "    models = (BayerGN(priors = [0.1, 0.9]),\n",
    "               BayerGN(priors=[0.5,0.5]),\n",
    "               BayerGN(priors=[0.25,0.75]),\n",
    "               BayerGN(priors=[0.75,0.25]))\n",
    "    models = [clf.fit(X[:,i], Y) for clf in models]\n",
    "    # scores\n",
    "    scores = [model.score(X_test[:,i], y_test) for model in models]\n",
    "    print(\"accuracy\")\n",
    "    print(scores)\n",
    "    # title for the plots\n",
    "    titles = ('priors = [0.1, 0.9]',\n",
    "              'priors=[0.5,0.5]',\n",
    "              'priors=[0.25,0.75]',\n",
    "              'priors=[0.75,0.25]')\n",
    "    labels = (\"height\",\"weight\",\"size of feet\")\n",
    "    print(labels[i])\n",
    "    fig, sub = plt.subplots(1, 1)\n",
    "    plt.subplots_adjust(wspace=0.4, hspace=0.4)\n",
    "    from playML.metrics import roc\n",
    "    from sklearn.metrics import roc_curve\n",
    "    fprs = []\n",
    "    tprs = []\n",
    "\n",
    "    decision_scores = models[0].decision_function(X_test[:,i])\n",
    "    fprs, tprs,t  = roc_curve( y_test, decision_scores)\n",
    "\n",
    "#         fprs, tprs,t  = roc(decision_scores, y_test)\n",
    "    sub.plot(fprs, tprs)\n",
    "    sub.set_xlabel(\"fprs\")\n",
    "    sub.set_ylabel(\"tprs\")\n",
    "    sub.set_xticks(())\n",
    "    sub.set_yticks(())\n",
    "    sub.set_title(titles[0]+\" \"+labels[i])"
   ]
  },
  {
   "cell_type": "code",
   "execution_count": null,
   "metadata": {},
   "outputs": [],
   "source": [
    "bayes1d(0)\n",
    "bayes1d(1)\n",
    "bayes1d(2)"
   ]
  },
  {
   "cell_type": "code",
   "execution_count": null,
   "metadata": {},
   "outputs": [],
   "source": []
  }
 ],
 "metadata": {
  "kernelspec": {
   "display_name": "Python 3",
   "language": "python",
   "name": "python3"
  }
 },
 "nbformat": 4,
 "nbformat_minor": 2
}
