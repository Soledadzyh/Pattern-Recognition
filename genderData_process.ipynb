{
 "cells": [
  {
   "cell_type": "code",
   "execution_count": 17,
   "metadata": {},
   "outputs": [],
   "source": [
    "import numpy as np\n",
    "import matplotlib.pyplot as plt\n",
    "import xlrd\n",
    "import numpy as np\n",
    "import matplotlib.pyplot as plt\n",
    "from numpy.linalg import inv\n",
    "import csv\n",
    "# from playML.LDA import LDA\n",
    "from playML.metrics import plot_decision_boundary\n",
    "from playML.Bayers import BayersGN\n",
    "\n",
    "X_train, y_train = np.loadtxt(\"X.csv\", delimiter=\",\"),np.loadtxt(\"y.csv\", delimiter=\",\")\n",
    "X_test, y_test =  np.loadtxt(\"X_test.csv\", delimiter=\",\"), np.loadtxt(\"y_test.csv\", delimiter=\",\")"
   ]
  },
  {
   "cell_type": "code",
   "execution_count": 18,
   "metadata": {},
   "outputs": [],
   "source": [
    "boy82, boy83 = np.loadtxt(fname='./genderdata/boy82.txt'),np.loadtxt('./genderdata/boy83.txt')\n",
    "boynew, male2017 = np.loadtxt(fname='./genderdata/boynew.txt'),np.loadtxt('./genderdata/male2017.txt')"
   ]
  },
  {
   "cell_type": "code",
   "execution_count": 19,
   "metadata": {},
   "outputs": [],
   "source": [
    "girl35, girl42 = np.loadtxt(fname='./genderdata/girl35.txt'),np.loadtxt('./genderdata/girl42.txt')\n",
    "girlnew, female2017 = np.loadtxt(fname='./genderdata/girlnew.txt'),np.loadtxt('./genderdata/female2017.txt')"
   ]
  },
  {
   "cell_type": "code",
   "execution_count": 20,
   "metadata": {},
   "outputs": [],
   "source": [
    "boy, girl = np.loadtxt(fname='./genderdata/boy.txt'),np.loadtxt('./genderdata/girl.txt')"
   ]
  },
  {
   "cell_type": "code",
   "execution_count": 26,
   "metadata": {},
   "outputs": [],
   "source": [
    "boy_train, girl_train = np.vstack((boy82, boy83,boynew, male2017 ,boy)), np.vstack((girl35, girl42,girlnew, female2017 ,girl))\n",
    "girlY, boyY =np.ones(girl_train.shape[0]), np.zeros(boy_train.shape[0])"
   ]
  },
  {
   "cell_type": "code",
   "execution_count": 27,
   "metadata": {},
   "outputs": [],
   "source": [
    "X, Y = np.vstack((boy_train, girl_train)), np.hstack((boyY, girlY))"
   ]
  },
  {
   "cell_type": "code",
   "execution_count": 30,
   "metadata": {},
   "outputs": [
    {
     "data": {
      "text/plain": [
       "(862,)"
      ]
     },
     "execution_count": 30,
     "metadata": {},
     "output_type": "execute_result"
    }
   ],
   "source": [
    "Y.shape"
   ]
  },
  {
   "cell_type": "code",
   "execution_count": 32,
   "metadata": {},
   "outputs": [],
   "source": [
    "np.savetxt(\"X_train.csv\", X , delimiter=\",\")"
   ]
  },
  {
   "cell_type": "code",
   "execution_count": 33,
   "metadata": {},
   "outputs": [],
   "source": [
    "np.savetxt(\"y_train.csv\", Y , delimiter=\",\")"
   ]
  }
 ],
 "metadata": {
  "kernelspec": {
   "display_name": "Python 3",
   "language": "python",
   "name": "python3"
  },
  "language_info": {
   "codemirror_mode": {
    "name": "ipython",
    "version": 3
   },
   "file_extension": ".py",
   "mimetype": "text/x-python",
   "name": "python",
   "nbconvert_exporter": "python",
   "pygments_lexer": "ipython3",
   "version": "3.7.1"
  }
 },
 "nbformat": 4,
 "nbformat_minor": 2
}
