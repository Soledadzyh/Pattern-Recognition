{
 "cells": [
  {
   "cell_type": "code",
   "execution_count": 7,
   "metadata": {},
   "outputs": [],
   "source": [
    "import numpy as np\n",
    "import matplotlib.pyplot as plt\n",
    "import xlrd\n",
    "girl, boy = np.loadtxt(fname='girl.txt'),np.loadtxt('boy.txt')\n",
    "girlY, boyY =np.ones(girl.shape[0]), np.zeros(165)\n",
    "X, Y = np.vstack((boy, girl)), np.hstack((boyY, girlY))\n",
    "sheet = xlrd.open_workbook(\"fm_2018.xlsx\").sheets()[0]\n",
    "X1,X2,X3= sheet.col_values(0),sheet.col_values(1),sheet.col_values(2)\n",
    "X_test = np.array([X1,X2,X3]).T\n",
    "X_test, y_test = X_test[1:,:], np.array(sheet.col_values(3))[1:]\n",
    "y_test = np.array(y_test==\"女\",dtype=\"float64\")\n",
    "X_test, Y = X_test.astype(\"float64\"), Y.astype('float64')"
   ]
  },
  {
   "cell_type": "code",
   "execution_count": 14,
   "metadata": {},
   "outputs": [],
   "source": [
    "from sklearn.naive_bayes import GaussianNB\n",
    "def bayers_3d():    \n",
    "    models = (GaussianNB(priors = [0.1, 0.9]),\n",
    "               GaussianNB(priors=[0.5,0.5]),\n",
    "                GaussianNB(priors=[0.75,0.25]),\n",
    "                GaussianNB(priors=[0.25,0.75])) \n",
    "    models = [clf.fit(X, Y) for clf in models]\n",
    "    # scores\n",
    "    scores = [model.score(X_test, y_test) for model in models]\n",
    "    print(\"R_squre\")\n",
    "    print(scores)\n",
    "    s = [sum(model.predict(X_test)==y_test)/len(y_test) for model in models]\n",
    "    print(\"accuracy\")\n",
    "    print(s)\n",
    "    # title for the plots\n",
    "    titles = ('priors = [0.1, 0.9]',\n",
    "              'priors=[0.5,0.5]',\n",
    "              'priors=[0.25,0.75]',\n",
    "              'priors=[0.75,0.25]')\n",
    "    labels = (\"height\",\"weight\",\"size of feet\") \n",
    "    fig, sub = plt.subplots(1, 1)\n",
    "    plt.subplots_adjust(wspace=0.4, hspace=0.4)\n",
    "    from playML.metrics import roc\n",
    "    from sklearn.metrics import roc_curve\n",
    "    fprs = []\n",
    "    tprs = []\n",
    "    decision_scores = models[0].predict_log_proba(X_test)\n",
    "    decision_scores=decision_scores[:,0]-decision_scores[:,1]\n",
    "#     fprs, tprs,_  = roc(decision_scores, y_test)\n",
    "    tprs, fprs,_  = roc_curve(y_test, decision_scores)\n",
    "    sub.plot(fprs, tprs)\n",
    "    sub.set_xlabel(\"fprs\")\n",
    "    sub.set_ylabel(\"tprs\")\n",
    "    sub.set_xticks(())\n",
    "    sub.set_yticks(())\n",
    "    sub.set_title(titles[0])"
   ]
  },
  {
   "cell_type": "code",
   "execution_count": 15,
   "metadata": {},
   "outputs": [
    {
     "name": "stdout",
     "output_type": "stream",
     "text": [
      "R_squre\n",
      "[0.9302325581395349, 0.9069767441860465, 0.9069767441860465, 0.9534883720930233]\n",
      "accuracy\n",
      "[0.9302325581395349, 0.9069767441860465, 0.9069767441860465, 0.9534883720930233]\n"
     ]
    },
    {
     "data": {
      "image/png": "[encoded data removed]",
      "text/plain": [
       "<Figure size 432x288 with 1 Axes>"
      ]
     },
     "metadata": {},
     "output_type": "display_data"
    }
   ],
   "source": [
    "bayers_3d()"
   ]
  },
  {
   "cell_type": "code",
   "execution_count": 24,
   "metadata": {},
   "outputs": [],
   "source": [
    "from playML.Bayers import BayersGN\n",
    "def bayers_3d():    \n",
    "    models = (BayersGN(priors = [0.1, 0.9]),\n",
    "               BayersGN(priors=[0.5,0.5]),\n",
    "                BayersGN(priors=[0.75,0.25]),\n",
    "                BayersGN(priors=[0.25,0.75])) \n",
    "    models = [clf.fit(X, Y) for clf in models]\n",
    "    # scores\n",
    "    scores = [model.score(X_test, y_test) for model in models]\n",
    "    print(\"R_squre\")\n",
    "    print(scores)\n",
    "    s = [sum(model.predict(X_test)==y_test)/len(y_test) for model in models]\n",
    "    print(\"accuracy\")\n",
    "    print(s)\n",
    "    # title for the plots\n",
    "    titles = ('priors = [0.1, 0.9]',\n",
    "              'priors=[0.5,0.5]',\n",
    "              'priors=[0.25,0.75]',\n",
    "              'priors=[0.75,0.25]')\n",
    "    labels = (\"height\",\"weight\",\"size of feet\") \n",
    "    fig, sub = plt.subplots(1, 1)\n",
    "    plt.subplots_adjust(wspace=0.4, hspace=0.4)\n",
    "    from playML.metrics import roc\n",
    "    from sklearn.metrics import roc_curve\n",
    "    fprs = []\n",
    "    tprs = []\n",
    "    decision_scores = models[0].decision_function(X_test)\n",
    "#     decision_scores=decision_scores[:,0]-decision_scores[:,1]\n",
    "#     fprs, tprs,_  = roc(decision_scores, y_test)\n",
    "    fprs, tprs,_  = roc_curve(y_test, decision_scores)\n",
    "    sub.plot(fprs, tprs)\n",
    "    sub.set_xlabel(\"fprs\")\n",
    "    sub.set_ylabel(\"tprs\")\n",
    "    sub.set_xticks(())\n",
    "    sub.set_yticks(())\n",
    "    sub.set_title(titles[0])"
   ]
  },
  {
   "cell_type": "code",
   "execution_count": 25,
   "metadata": {},
   "outputs": [
    {
     "name": "stdout",
     "output_type": "stream",
     "text": [
      "R_squre\n",
      "[0.7881773399014778, 0.7881773399014778, 0.5763546798029556, 0.7881773399014778]\n",
      "accuracy\n",
      "[0.9534883720930233, 0.9534883720930233, 0.9069767441860465, 0.9534883720930233]\n"
     ]
    },
    {
     "data": {
      "image/png": "[encoded data removed]",
      "text/plain": [
       "<Figure size 432x288 with 1 Axes>"
      ]
     },
     "metadata": {},
     "output_type": "display_data"
    }
   ],
   "source": [
    "bayers_3d()"
   ]
  },
  {
   "cell_type": "code",
   "execution_count": null,
   "metadata": {},
   "outputs": [],
   "source": []
  }
 ],
 "metadata": {
  "kernelspec": {
   "display_name": "base",
   "language": "python",
   "name": "base"
  },
  "language_info": {
   "codemirror_mode": {
    "name": "ipython",
    "version": 3
   },
   "file_extension": ".py",
   "mimetype": "text/x-python",
   "name": "python",
   "nbconvert_exporter": "python",
   "pygments_lexer": "ipython3",
   "version": "3.6.5"
  }
 },
 "nbformat": 4,
 "nbformat_minor": 2
}
